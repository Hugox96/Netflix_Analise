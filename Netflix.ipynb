{
 "cells": [
  {
   "cell_type": "code",
   "execution_count": 16,
   "metadata": {},
   "outputs": [],
   "source": [
    "import pandas  as pd\n",
    "import seaborn as sns\n",
    "import matplotlib.pyplot as plt\n",
    "data = pd.read_csv(\"netflix_titles.csv\")"
   ]
  },
  {
   "attachments": {},
   "cell_type": "markdown",
   "metadata": {},
   "source": [
    "**1º Passo: Limpeza de Dados**\n",
    "\n",
    "* Analisar o dataset\n",
    "* Limpar e analisar as colunas\n",
    "* Remover colunas duplicadas "
   ]
  },
  {
   "cell_type": "code",
   "execution_count": 2,
   "metadata": {},
   "outputs": [
    {
     "data": {
      "text/plain": [
       "Index(['show_id', 'type', 'title', 'director', 'cast', 'country', 'date_added',\n",
       "       'release_year', 'rating', 'duration', 'listed_in', 'description'],\n",
       "      dtype='object')"
      ]
     },
     "execution_count": 2,
     "metadata": {},
     "output_type": "execute_result"
    }
   ],
   "source": [
    "# Analisando o número de linhas e colunas\n",
    "data.shape\n",
    "# Verificando os nomes das colunas\n",
    "data.columns"
   ]
  },
  {
   "attachments": {},
   "cell_type": "markdown",
   "metadata": {},
   "source": [
    "**Verificando os valores nulos**"
   ]
  },
  {
   "cell_type": "code",
   "execution_count": 3,
   "metadata": {},
   "outputs": [
    {
     "data": {
      "text/plain": [
       "show_id            0\n",
       "type               0\n",
       "title              0\n",
       "release_year       0\n",
       "duration           0\n",
       "listed_in          0\n",
       "description        0\n",
       "rating            10\n",
       "date_added        11\n",
       "country          476\n",
       "cast             570\n",
       "director        1969\n",
       "dtype: int64"
      ]
     },
     "execution_count": 3,
     "metadata": {},
     "output_type": "execute_result"
    }
   ],
   "source": [
    "# Analisando a quantidade de valores nulos presentes em nosso dataframe\n",
    "data.isna().sum().sort_values()"
   ]
  },
  {
   "attachments": {},
   "cell_type": "markdown",
   "metadata": {},
   "source": [
    "**Verificando os valores únicos**"
   ]
  },
  {
   "cell_type": "code",
   "execution_count": 4,
   "metadata": {},
   "outputs": [
    {
     "data": {
      "text/plain": [
       "type               2\n",
       "rating            14\n",
       "release_year      72\n",
       "duration         201\n",
       "listed_in        461\n",
       "country          554\n",
       "date_added      1524\n",
       "director        3301\n",
       "cast            5469\n",
       "title           6172\n",
       "description     6226\n",
       "show_id         6234\n",
       "dtype: int64"
      ]
     },
     "execution_count": 4,
     "metadata": {},
     "output_type": "execute_result"
    }
   ],
   "source": [
    "# O metodo nunique retornar os valores únicos presentes em uma coluna\n",
    "data.nunique().sort_values()"
   ]
  },
  {
   "attachments": {},
   "cell_type": "markdown",
   "metadata": {},
   "source": [
    "**Analisando os valores duplicados presentes nas colunas**"
   ]
  },
  {
   "cell_type": "code",
   "execution_count": 5,
   "metadata": {},
   "outputs": [
    {
     "data": {
      "text/plain": [
       "0"
      ]
     },
     "execution_count": 5,
     "metadata": {},
     "output_type": "execute_result"
    }
   ],
   "source": [
    "# Utilizando o metodo duplicated para analisar a quantidade de valores duplicados presentes em nossas colunas\n",
    "data.duplicated().sum()"
   ]
  },
  {
   "attachments": {},
   "cell_type": "markdown",
   "metadata": {},
   "source": [
    "**Fazendo uma cópia do nosso dataframe, isso é importante para não afetarmos o dataframe original ao realizarmos a análise**"
   ]
  },
  {
   "cell_type": "code",
   "execution_count": 6,
   "metadata": {},
   "outputs": [],
   "source": [
    "netflix_dados = data.copy()"
   ]
  },
  {
   "attachments": {},
   "cell_type": "markdown",
   "metadata": {},
   "source": [
    "**Limpando os valores nulos, verificamos anteriormente e agora iremos eliminá-los**"
   ]
  },
  {
   "cell_type": "code",
   "execution_count": 7,
   "metadata": {},
   "outputs": [
    {
     "data": {
      "text/plain": [
       "show_id         0\n",
       "type            0\n",
       "title           0\n",
       "director        0\n",
       "cast            0\n",
       "country         0\n",
       "date_added      0\n",
       "release_year    0\n",
       "rating          0\n",
       "duration        0\n",
       "listed_in       0\n",
       "description     0\n",
       "dtype: int64"
      ]
     },
     "execution_count": 7,
     "metadata": {},
     "output_type": "execute_result"
    }
   ],
   "source": [
    "# Limpando os valores nulos\n",
    "netflix_dados.dropna(inplace=True)\n",
    "# Conferindo a quantidade de valores nulos após a limpeza, tem que ser 0\n",
    "netflix_dados.isna().sum()"
   ]
  },
  {
   "cell_type": "code",
   "execution_count": 8,
   "metadata": {},
   "outputs": [
    {
     "data": {
      "text/plain": [
       "(3774, 12)"
      ]
     },
     "execution_count": 8,
     "metadata": {},
     "output_type": "execute_result"
    }
   ],
   "source": [
    "# Podemos verificar que reduziu bastante com o shape\n",
    "netflix_dados.shape"
   ]
  },
  {
   "attachments": {},
   "cell_type": "markdown",
   "metadata": {},
   "source": [
    "**Convertendo para o formato padrão de data e hora**"
   ]
  },
  {
   "cell_type": "code",
   "execution_count": 9,
   "metadata": {},
   "outputs": [
    {
     "data": {
      "text/html": [
       "<div>\n",
       "<style scoped>\n",
       "    .dataframe tbody tr th:only-of-type {\n",
       "        vertical-align: middle;\n",
       "    }\n",
       "\n",
       "    .dataframe tbody tr th {\n",
       "        vertical-align: top;\n",
       "    }\n",
       "\n",
       "    .dataframe thead th {\n",
       "        text-align: right;\n",
       "    }\n",
       "</style>\n",
       "<table border=\"1\" class=\"dataframe\">\n",
       "  <thead>\n",
       "    <tr style=\"text-align: right;\">\n",
       "      <th></th>\n",
       "      <th>show_id</th>\n",
       "      <th>type</th>\n",
       "      <th>title</th>\n",
       "      <th>director</th>\n",
       "      <th>cast</th>\n",
       "      <th>country</th>\n",
       "      <th>date_added</th>\n",
       "      <th>release_year</th>\n",
       "      <th>rating</th>\n",
       "      <th>duration</th>\n",
       "      <th>listed_in</th>\n",
       "      <th>description</th>\n",
       "      <th>day_added</th>\n",
       "      <th>year_added</th>\n",
       "      <th>month_added</th>\n",
       "    </tr>\n",
       "  </thead>\n",
       "  <tbody>\n",
       "    <tr>\n",
       "      <th>0</th>\n",
       "      <td>81145628</td>\n",
       "      <td>Movie</td>\n",
       "      <td>Norm of the North: King Sized Adventure</td>\n",
       "      <td>Richard Finn, Tim Maltby</td>\n",
       "      <td>Alan Marriott, Andrew Toth, Brian Dobson, Cole...</td>\n",
       "      <td>United States, India, South Korea, China</td>\n",
       "      <td>2019-09-09</td>\n",
       "      <td>2019</td>\n",
       "      <td>TV-PG</td>\n",
       "      <td>90 min</td>\n",
       "      <td>Children &amp; Family Movies, Comedies</td>\n",
       "      <td>Before planning an awesome wedding for his gra...</td>\n",
       "      <td>9</td>\n",
       "      <td>2019</td>\n",
       "      <td>9</td>\n",
       "    </tr>\n",
       "    <tr>\n",
       "      <th>4</th>\n",
       "      <td>80125979</td>\n",
       "      <td>Movie</td>\n",
       "      <td>#realityhigh</td>\n",
       "      <td>Fernando Lebrija</td>\n",
       "      <td>Nesta Cooper, Kate Walsh, John Michael Higgins...</td>\n",
       "      <td>United States</td>\n",
       "      <td>2017-09-08</td>\n",
       "      <td>2017</td>\n",
       "      <td>TV-14</td>\n",
       "      <td>99 min</td>\n",
       "      <td>Comedies</td>\n",
       "      <td>When nerdy high schooler Dani finally attracts...</td>\n",
       "      <td>8</td>\n",
       "      <td>2017</td>\n",
       "      <td>9</td>\n",
       "    </tr>\n",
       "    <tr>\n",
       "      <th>6</th>\n",
       "      <td>70304989</td>\n",
       "      <td>Movie</td>\n",
       "      <td>Automata</td>\n",
       "      <td>Gabe Ibáñez</td>\n",
       "      <td>Antonio Banderas, Dylan McDermott, Melanie Gri...</td>\n",
       "      <td>Bulgaria, United States, Spain, Canada</td>\n",
       "      <td>2017-09-08</td>\n",
       "      <td>2014</td>\n",
       "      <td>R</td>\n",
       "      <td>110 min</td>\n",
       "      <td>International Movies, Sci-Fi &amp; Fantasy, Thrillers</td>\n",
       "      <td>In a dystopian future, an insurance adjuster f...</td>\n",
       "      <td>8</td>\n",
       "      <td>2017</td>\n",
       "      <td>9</td>\n",
       "    </tr>\n",
       "    <tr>\n",
       "      <th>7</th>\n",
       "      <td>80164077</td>\n",
       "      <td>Movie</td>\n",
       "      <td>Fabrizio Copano: Solo pienso en mi</td>\n",
       "      <td>Rodrigo Toro, Francisco Schultz</td>\n",
       "      <td>Fabrizio Copano</td>\n",
       "      <td>Chile</td>\n",
       "      <td>2017-09-08</td>\n",
       "      <td>2017</td>\n",
       "      <td>TV-MA</td>\n",
       "      <td>60 min</td>\n",
       "      <td>Stand-Up Comedy</td>\n",
       "      <td>Fabrizio Copano takes audience participation t...</td>\n",
       "      <td>8</td>\n",
       "      <td>2017</td>\n",
       "      <td>9</td>\n",
       "    </tr>\n",
       "    <tr>\n",
       "      <th>9</th>\n",
       "      <td>70304990</td>\n",
       "      <td>Movie</td>\n",
       "      <td>Good People</td>\n",
       "      <td>Henrik Ruben Genz</td>\n",
       "      <td>James Franco, Kate Hudson, Tom Wilkinson, Omar...</td>\n",
       "      <td>United States, United Kingdom, Denmark, Sweden</td>\n",
       "      <td>2017-09-08</td>\n",
       "      <td>2014</td>\n",
       "      <td>R</td>\n",
       "      <td>90 min</td>\n",
       "      <td>Action &amp; Adventure, Thrillers</td>\n",
       "      <td>A struggling couple can't believe their luck w...</td>\n",
       "      <td>8</td>\n",
       "      <td>2017</td>\n",
       "      <td>9</td>\n",
       "    </tr>\n",
       "  </tbody>\n",
       "</table>\n",
       "</div>"
      ],
      "text/plain": [
       "    show_id   type                                    title  \\\n",
       "0  81145628  Movie  Norm of the North: King Sized Adventure   \n",
       "4  80125979  Movie                             #realityhigh   \n",
       "6  70304989  Movie                                 Automata   \n",
       "7  80164077  Movie       Fabrizio Copano: Solo pienso en mi   \n",
       "9  70304990  Movie                              Good People   \n",
       "\n",
       "                          director  \\\n",
       "0         Richard Finn, Tim Maltby   \n",
       "4                 Fernando Lebrija   \n",
       "6                      Gabe Ibáñez   \n",
       "7  Rodrigo Toro, Francisco Schultz   \n",
       "9                Henrik Ruben Genz   \n",
       "\n",
       "                                                cast  \\\n",
       "0  Alan Marriott, Andrew Toth, Brian Dobson, Cole...   \n",
       "4  Nesta Cooper, Kate Walsh, John Michael Higgins...   \n",
       "6  Antonio Banderas, Dylan McDermott, Melanie Gri...   \n",
       "7                                    Fabrizio Copano   \n",
       "9  James Franco, Kate Hudson, Tom Wilkinson, Omar...   \n",
       "\n",
       "                                          country date_added  release_year  \\\n",
       "0        United States, India, South Korea, China 2019-09-09          2019   \n",
       "4                                   United States 2017-09-08          2017   \n",
       "6          Bulgaria, United States, Spain, Canada 2017-09-08          2014   \n",
       "7                                           Chile 2017-09-08          2017   \n",
       "9  United States, United Kingdom, Denmark, Sweden 2017-09-08          2014   \n",
       "\n",
       "  rating duration                                          listed_in  \\\n",
       "0  TV-PG   90 min                 Children & Family Movies, Comedies   \n",
       "4  TV-14   99 min                                           Comedies   \n",
       "6      R  110 min  International Movies, Sci-Fi & Fantasy, Thrillers   \n",
       "7  TV-MA   60 min                                    Stand-Up Comedy   \n",
       "9      R   90 min                      Action & Adventure, Thrillers   \n",
       "\n",
       "                                         description  day_added  year_added  \\\n",
       "0  Before planning an awesome wedding for his gra...          9        2019   \n",
       "4  When nerdy high schooler Dani finally attracts...          8        2017   \n",
       "6  In a dystopian future, an insurance adjuster f...          8        2017   \n",
       "7  Fabrizio Copano takes audience participation t...          8        2017   \n",
       "9  A struggling couple can't believe their luck w...          8        2017   \n",
       "\n",
       "   month_added  \n",
       "0            9  \n",
       "4            9  \n",
       "6            9  \n",
       "7            9  \n",
       "9            9  "
      ]
     },
     "execution_count": 9,
     "metadata": {},
     "output_type": "execute_result"
    }
   ],
   "source": [
    "# Modifiquei a coluna date_added para o formato data e hora\n",
    "netflix_dados[\"date_added\"] = pd.to_datetime(netflix_dados['date_added'])\n",
    "netflix_dados['day_added'] = netflix_dados['date_added'].dt.day\n",
    "netflix_dados['year_added'] = netflix_dados['date_added'].dt.year\n",
    "netflix_dados['month_added'] = netflix_dados['date_added'].dt.month\n",
    "netflix_dados.head(5)"
   ]
  },
  {
   "attachments": {},
   "cell_type": "markdown",
   "metadata": {},
   "source": [
    "**Vamos começar a parte da visualização dos dados, utilizando o Seaborn**\n",
    "* 1º Gráfico: Relação entre os filmes e as séries, qual é a mais assistida ?"
   ]
  },
  {
   "attachments": {},
   "cell_type": "markdown",
   "metadata": {},
   "source": [
    "**Relação filmes e séries**\n",
    "   \n",
    "Para realizar esse gráfico é interessante utilizar o counterplot, para compararmos visuamente os dados"
   ]
  },
  {
   "cell_type": "code",
   "execution_count": 20,
   "metadata": {},
   "outputs": [
    {
     "data": {
      "image/png": "[encoded data removed]",
      "text/plain": [
       "<Figure size 720x720 with 1 Axes>"
      ]
     },
     "metadata": {
      "needs_background": "light"
     },
     "output_type": "display_data"
    }
   ],
   "source": [
    "sns.countplot(netflix_dados[\"release_year\"])\n",
    "fig = plt.gcf()\n",
    "fig.set_size_inches(10,10)\n",
    "plt.title('Type')\n",
    "plt.show()"
   ]
  },
  {
   "cell_type": "code",
   "execution_count": 26,
   "metadata": {},
   "outputs": [
    {
     "ename": "TypeError",
     "evalue": "This function accepts only strings (the name of an example dataset). You passed a pandas DataFrame. If you have your own dataset, it is not necessary to use this function before plotting.",
     "output_type": "error",
     "traceback": [
      "\u001b[1;31m---------------------------------------------------------------------------\u001b[0m",
      "\u001b[1;31mTypeError\u001b[0m                                 Traceback (most recent call last)",
      "\u001b[1;32mc:\\Users\\T-Gamer\\Documents\\Desenvolvimento 2023\\Netfliz_Python\\Netflix.ipynb Cell 20\u001b[0m in \u001b[0;36m<cell line: 1>\u001b[1;34m()\u001b[0m\n\u001b[1;32m----> <a href='vscode-notebook-cell:/c%3A/Users/T-Gamer/Documents/Desenvolvimento%202023/Netfliz_Python/Netflix.ipynb#X35sZmlsZQ%3D%3D?line=0'>1</a>\u001b[0m data \u001b[39m=\u001b[39m sns\u001b[39m.\u001b[39;49mload_dataset(netflix_dados)\n\u001b[0;32m      <a href='vscode-notebook-cell:/c%3A/Users/T-Gamer/Documents/Desenvolvimento%202023/Netfliz_Python/Netflix.ipynb#X35sZmlsZQ%3D%3D?line=1'>2</a>\u001b[0m sns\u001b[39m.\u001b[39mcountplot(x\u001b[39m=\u001b[39m\u001b[39m\"\u001b[39m\u001b[39mtype\u001b[39m\u001b[39m\"\u001b[39m, data\u001b[39m=\u001b[39m data)\n\u001b[0;32m      <a href='vscode-notebook-cell:/c%3A/Users/T-Gamer/Documents/Desenvolvimento%202023/Netfliz_Python/Netflix.ipynb#X35sZmlsZQ%3D%3D?line=2'>3</a>\u001b[0m plt\u001b[39m.\u001b[39mshow()\n",
      "File \u001b[1;32mc:\\Python39\\lib\\site-packages\\seaborn\\utils.py:575\u001b[0m, in \u001b[0;36mload_dataset\u001b[1;34m(name, cache, data_home, **kws)\u001b[0m\n\u001b[0;32m    569\u001b[0m \u001b[39mif\u001b[39;00m \u001b[39misinstance\u001b[39m(name, pd\u001b[39m.\u001b[39mDataFrame):\n\u001b[0;32m    570\u001b[0m     err \u001b[39m=\u001b[39m (\n\u001b[0;32m    571\u001b[0m         \u001b[39m\"\u001b[39m\u001b[39mThis function accepts only strings (the name of an example dataset). \u001b[39m\u001b[39m\"\u001b[39m\n\u001b[0;32m    572\u001b[0m         \u001b[39m\"\u001b[39m\u001b[39mYou passed a pandas DataFrame. If you have your own dataset, \u001b[39m\u001b[39m\"\u001b[39m\n\u001b[0;32m    573\u001b[0m         \u001b[39m\"\u001b[39m\u001b[39mit is not necessary to use this function before plotting.\u001b[39m\u001b[39m\"\u001b[39m\n\u001b[0;32m    574\u001b[0m     )\n\u001b[1;32m--> 575\u001b[0m     \u001b[39mraise\u001b[39;00m \u001b[39mTypeError\u001b[39;00m(err)\n\u001b[0;32m    577\u001b[0m url \u001b[39m=\u001b[39m \u001b[39mf\u001b[39m\u001b[39m\"\u001b[39m\u001b[39mhttps://raw.githubusercontent.com/mwaskom/seaborn-data/master/\u001b[39m\u001b[39m{\u001b[39;00mname\u001b[39m}\u001b[39;00m\u001b[39m.csv\u001b[39m\u001b[39m\"\u001b[39m\n\u001b[0;32m    579\u001b[0m \u001b[39mif\u001b[39;00m cache:\n",
      "\u001b[1;31mTypeError\u001b[0m: This function accepts only strings (the name of an example dataset). You passed a pandas DataFrame. If you have your own dataset, it is not necessary to use this function before plotting."
     ]
    }
   ],
   "source": [
    "data = sns.load_dataset(netflix_dados)\n",
    "sns.countplot(x=\"type\", data= data)\n",
    "plt.show()"
   ]
  }
 ],
 "metadata": {
  "kernelspec": {
   "display_name": "Python 3",
   "language": "python",
   "name": "python3"
  },
  "language_info": {
   "codemirror_mode": {
    "name": "ipython",
    "version": 3
   },
   "file_extension": ".py",
   "mimetype": "text/x-python",
   "name": "python",
   "nbconvert_exporter": "python",
   "pygments_lexer": "ipython3",
   "version": "3.9.5"
  },
  "orig_nbformat": 4
 },
 "nbformat": 4,
 "nbformat_minor": 2
}
